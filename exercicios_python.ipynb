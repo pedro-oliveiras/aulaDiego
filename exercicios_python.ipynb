{
  "cells": [
    {
      "cell_type": "markdown",
      "metadata": {
        "id": "CW_u_97tBUF2"
      },
      "source": [
        "# Exercícios"
      ]
    },
    {
      "cell_type": "markdown",
      "metadata": {
        "id": "Uz3EgaSuBUF9"
      },
      "source": [
        "1. Escreva um algoritmo que imprima na tela: Olá Mundo!"
      ]
    },
    {
      "cell_type": "code",
      "execution_count": null,
      "metadata": {
        "colab": {
          "base_uri": "https://localhost:8080/"
        },
        "id": "4w_Gw3d3BUF-",
        "outputId": "90cd29e2-6bc1-47b5-f09a-5511fbd2dcf4"
      },
      "outputs": [
        {
          "output_type": "stream",
          "name": "stdout",
          "text": [
            "Olá Mundo!\n"
          ]
        }
      ],
      "source": [
        "print(\"Olá Mundo!\")"
      ]
    },
    {
      "cell_type": "markdown",
      "metadata": {
        "id": "3S8X3kkUBUF_"
      },
      "source": [
        "2. Escreva um programa que imprima seu nome na tela."
      ]
    },
    {
      "cell_type": "code",
      "execution_count": null,
      "metadata": {
        "colab": {
          "base_uri": "https://localhost:8080/"
        },
        "id": "dEzgtM2aBUF_",
        "outputId": "da404c19-6eef-4fda-f3bd-1e322b79cd7a"
      },
      "outputs": [
        {
          "output_type": "stream",
          "name": "stdout",
          "text": [
            "Pedro\n"
          ]
        }
      ],
      "source": [
        "print(\"Pedro\")"
      ]
    },
    {
      "cell_type": "markdown",
      "metadata": {
        "id": "zwdPyJUaBUGA"
      },
      "source": [
        "3. O que o código a seguir imprime?\n",
        "\n",
        "```python\n",
        "print(\"*\\n**\\n***\\n****\\n*****\")\n",
        "```"
      ]
    },
    {
      "cell_type": "code",
      "execution_count": null,
      "metadata": {
        "colab": {
          "base_uri": "https://localhost:8080/"
        },
        "id": "namC_lkbBUGB",
        "outputId": "a65e1723-3ebe-4a0b-8916-267da3bf0ceb"
      },
      "outputs": [
        {
          "output_type": "stream",
          "name": "stdout",
          "text": [
            "*\n",
            "**\n",
            "***\n",
            "****\n",
            "*****\n"
          ]
        }
      ],
      "source": [
        "print(\"*\\n**\\n***\\n****\\n*****\")"
      ]
    },
    {
      "cell_type": "markdown",
      "metadata": {
        "id": "7BFcK462BUGB"
      },
      "source": [
        "4. O que aparece na janela do console, quando cada uma das instruções abaixo são executadas, para: x = 2 e y = 3? Execute cada uma das linhas abaixos e, se necessário, faça os devidos ajustes no código.\n",
        "    1. *print(“x = ” + x);*\n",
        "    2. *print(“O valor de x + x é ” + (x + x));*\n",
        "    3. *print(“x = ”);*\n",
        "    4. *print((x + y) + “ = “ + (y + x));*\n"
      ]
    },
    {
      "cell_type": "code",
      "execution_count": null,
      "metadata": {
        "colab": {
          "base_uri": "https://localhost:8080/"
        },
        "id": "XA-6NNBJBUGC",
        "outputId": "6dabfeff-e79d-445b-d7f4-9c36a55260d8"
      },
      "outputs": [
        {
          "output_type": "stream",
          "name": "stdout",
          "text": [
            "x =  2\n",
            "O valor de x + x é 4\n",
            "x = \n",
            "5  =  5\n"
          ]
        }
      ],
      "source": [
        "x = 2\n",
        "y = 3\n",
        "print('x = ', x)\n",
        "print('O valor de x + x é', (x + x));\n",
        "print('x = ');\n",
        "print((x + y) , ' = ' , (y + x));"
      ]
    },
    {
      "cell_type": "markdown",
      "metadata": {
        "id": "YXChg_q4BUGD"
      },
      "source": [
        "5. Escreva um algoritmo que imprima na tela a seguinte mensagem:\n",
        "\n",
        "> A programação é aprendida escrevendo programas - \n",
        "> Brian Kernighan\n"
      ]
    },
    {
      "cell_type": "code",
      "execution_count": null,
      "metadata": {
        "colab": {
          "base_uri": "https://localhost:8080/"
        },
        "id": "u7PsQ98EBUGE",
        "outputId": "b764bfeb-6221-4d24-e55e-8c367fb3ef54"
      },
      "outputs": [
        {
          "output_type": "stream",
          "name": "stdout",
          "text": [
            "A programação é aprendida escrevendo programas - Brian Kernighan\n"
          ]
        }
      ],
      "source": [
        "print(\"A programação é aprendida escrevendo programas - Brian Kernighan\")"
      ]
    },
    {
      "cell_type": "markdown",
      "metadata": {
        "id": "q4gCYAdYBUGE"
      },
      "source": [
        "6. Crie um algoritmo que imprima o produto entre os números 25 e 27"
      ]
    },
    {
      "cell_type": "code",
      "execution_count": null,
      "metadata": {
        "colab": {
          "base_uri": "https://localhost:8080/"
        },
        "id": "FH96jeK0BUGF",
        "outputId": "f27882b3-d83e-4f05-fc67-7d580fa0e768"
      },
      "outputs": [
        {
          "output_type": "stream",
          "name": "stdout",
          "text": [
            "675\n"
          ]
        }
      ],
      "source": [
        "print(25 * 27)"
      ]
    },
    {
      "cell_type": "markdown",
      "metadata": {
        "id": "t_FnT9M2BUGG"
      },
      "source": [
        "7. Crie um algoritmo que imprima a média aritmética entre os números 4, 12, 15."
      ]
    },
    {
      "cell_type": "code",
      "execution_count": null,
      "metadata": {
        "colab": {
          "base_uri": "https://localhost:8080/"
        },
        "id": "AQ67kxsjBUGG",
        "outputId": "1424350a-e590-4535-c906-74fb5d705af6"
      },
      "outputs": [
        {
          "output_type": "stream",
          "name": "stdout",
          "text": [
            "10.333333333333334\n"
          ]
        }
      ],
      "source": [
        "def media(x, y, z):\n",
        "  media = (x + y + z) / 3\n",
        "  return media\n",
        "\n",
        "print(media(4, 12, 15))"
      ]
    },
    {
      "cell_type": "markdown",
      "metadata": {
        "id": "zqbjMVkIBUGH"
      },
      "source": [
        "8. Faça um programa que leia um número inteiro e mostre-o na tela da seguinte forma: \n",
        "\n",
        "> O número inteiro digitado foi 4."
      ]
    },
    {
      "cell_type": "code",
      "execution_count": null,
      "metadata": {
        "id": "00RVeD9sBUGJ",
        "colab": {
          "base_uri": "https://localhost:8080/"
        },
        "outputId": "11e8ee45-30a6-45e9-d227-ed1145f8bb1c"
      },
      "outputs": [
        {
          "output_type": "stream",
          "name": "stdout",
          "text": [
            "Digite um número inteiro: 4\n",
            "O número inteiro digitado foi 4\n"
          ]
        }
      ],
      "source": [
        "x = int(input(\"Digite um número inteiro: \"))\n",
        "\n",
        "print(f'O número inteiro digitado foi {x}')"
      ]
    },
    {
      "cell_type": "markdown",
      "metadata": {
        "id": "w8ncWiJbBUGJ"
      },
      "source": [
        "9. Faça um programa que leia e imprima dois números inteiros na tela."
      ]
    },
    {
      "cell_type": "code",
      "execution_count": null,
      "metadata": {
        "id": "NnqUNLYqBUGK",
        "colab": {
          "base_uri": "https://localhost:8080/"
        },
        "outputId": "cfcc8b96-f67e-4db1-fed4-c223dc220f80"
      },
      "outputs": [
        {
          "output_type": "stream",
          "name": "stdout",
          "text": [
            "Digite o primeiro número: 5\n",
            "Digite o segundo número:2\n",
            "\n",
            "Você digitou os números 5 e 2\n"
          ]
        }
      ],
      "source": [
        "x = int(input(\"Digite o primeiro número: \"))\n",
        "y = int(input(\"Digite o segundo número:\"))\n",
        "\n",
        "print(f'\\nVocê digitou os números {x} e {y}')"
      ]
    },
    {
      "cell_type": "markdown",
      "metadata": {
        "id": "HLWW4ys5BUGL"
      },
      "source": [
        "10. Faça um programa que leia um número inteiro e imprima seu número sucessor e antecessor."
      ]
    },
    {
      "cell_type": "code",
      "execution_count": null,
      "metadata": {
        "id": "s0lvb2ffBUGM",
        "colab": {
          "base_uri": "https://localhost:8080/"
        },
        "outputId": "edcf0eae-724e-41cb-d923-1d1d4d16fd9d"
      },
      "outputs": [
        {
          "output_type": "stream",
          "name": "stdout",
          "text": [
            "Digite um número inteiro: 5\n",
            "\n",
            "Número digitado: 5 \n",
            "Sucessor: 6 \n",
            "Antecessor: 4\n"
          ]
        }
      ],
      "source": [
        "x = int(input(\"Digite um número inteiro: \"))\n",
        "\n",
        "print(f'\\nNúmero digitado: {x} \\nSucessor: {x + 1} \\nAntecessor: {x - 1}')"
      ]
    },
    {
      "cell_type": "markdown",
      "metadata": {
        "id": "o6k3GivABUGM"
      },
      "source": [
        "11. Faça um programa que leia o nome, endereço e telefone de um usuário e imprima na tela."
      ]
    },
    {
      "cell_type": "code",
      "execution_count": null,
      "metadata": {
        "id": "UWZDRVLoBUGN",
        "colab": {
          "base_uri": "https://localhost:8080/"
        },
        "outputId": "ec98c4f1-1f6a-479f-b118-831364aefc52"
      },
      "outputs": [
        {
          "output_type": "stream",
          "name": "stdout",
          "text": [
            "Digite seu nome: Pedro\n",
            "Digite seu endereço: Rua dos aimores 1445\n",
            "Digite seu telefone: 3105678945\n",
            "\n",
            "Nome: Pedro \n",
            "Endereço: Rua dos aimores 1445 \n",
            "Telefone: 3105678945\n"
          ]
        }
      ],
      "source": [
        "nome = input(\"Digite seu nome: \")\n",
        "cep = input(\"Digite seu endereço: \")\n",
        "telefone = input(\"Digite seu telefone: \")\n",
        "\n",
        "print(f'\\nNome: {nome} \\nEndereço: {cep} \\nTelefone: {telefone}')"
      ]
    },
    {
      "cell_type": "markdown",
      "metadata": {
        "id": "WBWBEKpCBUGN"
      },
      "source": [
        "12. Faça um programa que leia e multiplique dois números inteiros."
      ]
    },
    {
      "cell_type": "code",
      "execution_count": null,
      "metadata": {
        "id": "klywcJKpBUGO",
        "colab": {
          "base_uri": "https://localhost:8080/"
        },
        "outputId": "f1d94e43-4086-4b80-f9f6-072d4e6a4528"
      },
      "outputs": [
        {
          "output_type": "stream",
          "name": "stdout",
          "text": [
            "Digite o primeiro número: 2\n",
            "Digite o segundo número: 2\n",
            "2 x 2 = 4\n"
          ]
        }
      ],
      "source": [
        "x = int(input(\"Digite o primeiro número: \"))\n",
        "y = int(input(\"Digite o segundo número: \"))\n",
        "\n",
        "print(f'{x} x {y} = {x * y}')"
      ]
    },
    {
      "cell_type": "markdown",
      "metadata": {
        "id": "JVJ9cqWCBUGP"
      },
      "source": [
        "13. Faça um programa que leia um número real e imprima a terça parte deste número."
      ]
    },
    {
      "cell_type": "code",
      "execution_count": null,
      "metadata": {
        "id": "5Nwng5ZLBUGP",
        "colab": {
          "base_uri": "https://localhost:8080/"
        },
        "outputId": "a5ba3dd3-792f-4967-f5b5-eabc91bb2074"
      },
      "outputs": [
        {
          "output_type": "stream",
          "name": "stdout",
          "text": [
            "Digite um número: 96\n",
            "A terça parte de 96.0 é 32.0\n"
          ]
        }
      ],
      "source": [
        "x = float(input('Digite um número: '))\n",
        "\n",
        "print(f'A terça parte de {x} é {x / 3}')"
      ]
    },
    {
      "cell_type": "markdown",
      "metadata": {
        "id": "5BZx_A0CBUGQ"
      },
      "source": [
        "14. Faça um programa que leia dois números inteiros e imprima o dividendo, divisor, quociente e resto da divisão"
      ]
    },
    {
      "cell_type": "code",
      "execution_count": null,
      "metadata": {
        "id": "05xezDwDBUGR",
        "colab": {
          "base_uri": "https://localhost:8080/"
        },
        "outputId": "57254245-13cd-48c3-d4e1-723a2b116f0b"
      },
      "outputs": [
        {
          "output_type": "stream",
          "name": "stdout",
          "text": [
            "Digite o primeiro número: 10\n",
            "Digite o segundo número: 7\n",
            "\n",
            "Dividendo: 10 \n",
            "Divisor: 7 \n",
            "Quociente: 1 \n",
            "Resto: 3\n"
          ]
        }
      ],
      "source": [
        "x = int(input(\"Digite o primeiro número: \"))\n",
        "y = int(input(\"Digite o segundo número: \"))\n",
        "\n",
        "print(f'\\nDividendo: {x} \\nDivisor: {y} \\nQuociente: {int(x / y)} \\nResto: {x % y}')"
      ]
    },
    {
      "cell_type": "markdown",
      "metadata": {
        "id": "KASvtyIyBUGR"
      },
      "source": [
        "15. Escreva um programa que solicite do usuário dois números, e imprima o resultado da soma, subtração, multiplicação e divisão."
      ]
    },
    {
      "cell_type": "code",
      "execution_count": null,
      "metadata": {
        "id": "DrNAfAdjBUGR",
        "colab": {
          "base_uri": "https://localhost:8080/"
        },
        "outputId": "eed2e7eb-e3d1-46bc-c009-1340e30192fa"
      },
      "outputs": [
        {
          "output_type": "stream",
          "name": "stdout",
          "text": [
            "Digite o primeiro número: 5\n",
            "Digite o segundo número: 2\n",
            "\n",
            "5 + 2 = 7 \n",
            "5 - 2 = 3 \n",
            "5 x 2 = 10 \n",
            "5 / 2 = 2.5\n"
          ]
        }
      ],
      "source": [
        "x = int(input(\"Digite o primeiro número: \"))\n",
        "y = int(input(\"Digite o segundo número: \"))\n",
        "\n",
        "print(f'\\n{x} + {y} = {x + y} \\n{x} - {y} = {x - y} \\n{x} x {y} = {x * y} \\n{x} / {y} = {x / y}')"
      ]
    },
    {
      "cell_type": "markdown",
      "metadata": {
        "id": "Pt4aulveBUGS"
      },
      "source": [
        "16. Faça um programa que leia quatro números inteiros, calcule e mostre a soma desses números."
      ]
    },
    {
      "cell_type": "code",
      "execution_count": null,
      "metadata": {
        "id": "Ivbo0SHiBUGS",
        "colab": {
          "base_uri": "https://localhost:8080/"
        },
        "outputId": "cf1101ed-fc64-4f98-88a4-55c259194b8d"
      },
      "outputs": [
        {
          "output_type": "stream",
          "name": "stdout",
          "text": [
            "Digite o primeiro número: 2\n",
            "Digite o segundo número: 3\n",
            "Digite o terceiro número: 4\n",
            "Digite o quarto número: 5\n",
            "\n",
            "A soma dos quatro números é 14\n"
          ]
        }
      ],
      "source": [
        "x = int(input(\"Digite o primeiro número: \"))\n",
        "y = int(input(\"Digite o segundo número: \"))\n",
        "z = int(input(\"Digite o terceiro número: \"))\n",
        "a = int(input(\"Digite o quarto número: \"))\n",
        "\n",
        "print(f'\\nA soma dos quatro números é {x + y + z + a}')"
      ]
    },
    {
      "cell_type": "markdown",
      "metadata": {
        "id": "bdxWrNfOBUGS"
      },
      "source": [
        "17. Faça um programa que receba três notas, calcule e mostre a média aritmética."
      ]
    },
    {
      "cell_type": "code",
      "execution_count": null,
      "metadata": {
        "id": "dkEGuKJnBUGT",
        "colab": {
          "base_uri": "https://localhost:8080/"
        },
        "outputId": "b9f9d649-f4e3-46f7-b21c-8658bba8f084"
      },
      "outputs": [
        {
          "output_type": "stream",
          "name": "stdout",
          "text": [
            "Digite a primeira nota: 4\n",
            "Digite a segunda nota: 5\n",
            "Digite a terceira nota: 6\n",
            "\n",
            "A média aritmética das 3 notas é 5.0\n"
          ]
        }
      ],
      "source": [
        "x = int(input(\"Digite a primeira nota: \"))\n",
        "y = int(input(\"Digite a segunda nota: \"))\n",
        "z = int(input(\"Digite a terceira nota: \"))\n",
        "\n",
        "media = (x + y + z) / 3\n",
        "\n",
        "print(f'\\nA média aritmética das 3 notas é {media}')"
      ]
    },
    {
      "cell_type": "markdown",
      "metadata": {
        "id": "RyCOkvkjBUGT"
      },
      "source": [
        "18. Faça um programa que receba três notas e seus respectivos pesos, calcule e mostre a média ponderada."
      ]
    },
    {
      "cell_type": "code",
      "execution_count": null,
      "metadata": {
        "id": "7im_TrK6BUGU",
        "colab": {
          "base_uri": "https://localhost:8080/"
        },
        "outputId": "24bbaf9f-bd31-4c90-9b8f-41898df3d1df"
      },
      "outputs": [
        {
          "output_type": "stream",
          "name": "stdout",
          "text": [
            "Digite a primeira nota: 7.5\n",
            "Digite o peso da primeira nota: 1\n",
            "\n",
            "Digite a segunda nota: 5.0\n",
            "Digite o peso da segunda nota: 2\n",
            "\n",
            "Digite a terceira nota: 6.2\n",
            "Digite o peso da terceira nota: 4\n",
            "\n",
            "A média ponderada é 6.04\n"
          ]
        }
      ],
      "source": [
        "x = float(input(\"Digite a primeira nota: \"))\n",
        "pesox = int(input(\"Digite o peso da primeira nota: \"))\n",
        "\n",
        "y = float(input(\"\\nDigite a segunda nota: \"))\n",
        "pesoy = int(input(\"Digite o peso da segunda nota: \"))\n",
        "\n",
        "z = float(input(\"\\nDigite a terceira nota: \"))\n",
        "pesoz = int(input(\"Digite o peso da terceira nota: \"))\n",
        "\n",
        "notas = (x * pesox) + (y * pesoy) + (z * pesoz)\n",
        "pesos = pesox + pesoy + pesoz\n",
        "\n",
        "total = notas / pesos\n",
        "\n",
        "print(f'\\nA média ponderada é {total:.2f}')"
      ]
    },
    {
      "cell_type": "markdown",
      "metadata": {
        "id": "a_P5GK3HBUGU"
      },
      "source": [
        "19. Faça um programa que receba o salário de um funcionário, calcule e mostre o novo salário, sabendo-se que este sofreu um aumento de 25%."
      ]
    },
    {
      "cell_type": "code",
      "execution_count": null,
      "metadata": {
        "id": "Hil7JtwgBUGU",
        "colab": {
          "base_uri": "https://localhost:8080/"
        },
        "outputId": "092f7206-bbf0-4031-db2c-3fd16fb2bd61"
      },
      "outputs": [
        {
          "output_type": "stream",
          "name": "stdout",
          "text": [
            "Digite o salário do funcionário: 1500\n",
            "\n",
            "O novo salário é 1875.00\n"
          ]
        }
      ],
      "source": [
        "salario = float(input('Digite o salário do funcionário: '))\n",
        "\n",
        "salario += salario * 0.25\n",
        "\n",
        "print(f'\\nO novo salário é {salario:.2f}')"
      ]
    },
    {
      "cell_type": "markdown",
      "metadata": {
        "id": "sg7deiKIBUGV"
      },
      "source": [
        "20. Faça um programa que receba o salário de um funcionário e o percentual de aumento, calcule e mostre o valor do aumento e o novo salário. "
      ]
    },
    {
      "cell_type": "code",
      "execution_count": null,
      "metadata": {
        "id": "VqzhDjVeBUGV",
        "colab": {
          "base_uri": "https://localhost:8080/"
        },
        "outputId": "979b8382-a568-49be-f08b-a2f110b38526"
      },
      "outputs": [
        {
          "output_type": "stream",
          "name": "stdout",
          "text": [
            "Digite o salário do funcionário: 1500\n",
            "Digite o percentual de aumento: 25\n",
            "\n",
            "O novo salário é 1875.00\n"
          ]
        }
      ],
      "source": [
        "salario = float(input('Digite o salário do funcionário: '))\n",
        "aumento = float(input('Digite o percentual de aumento: '))\n",
        "\n",
        "aumento /= 100\n",
        "\n",
        "salario += salario * aumento\n",
        "\n",
        "print(f'\\nO novo salário é {salario:.2f}')"
      ]
    },
    {
      "cell_type": "markdown",
      "metadata": {
        "id": "iXzcel9sBUGV"
      },
      "source": [
        "21.  Faça um programa que calcule e mostre a área de um triângulo. Sabe-se que: \n",
        "> Área = (base * altura) / 2."
      ]
    },
    {
      "cell_type": "code",
      "execution_count": null,
      "metadata": {
        "id": "d5QU2x65BUGW",
        "colab": {
          "base_uri": "https://localhost:8080/"
        },
        "outputId": "10ec8b20-97bd-4f03-8275-e0ec6d4e9708"
      },
      "outputs": [
        {
          "output_type": "stream",
          "name": "stdout",
          "text": [
            "Digite a base: 5\n",
            "Digite a altura: 2\n",
            "A área do triângulo é de 5.0\n"
          ]
        }
      ],
      "source": [
        "base = float(input('Digite a base: '))\n",
        "altura = float(input('Digite a altura: '))\n",
        "\n",
        "area = (base * altura) / 2\n",
        "\n",
        "print(f'A área do triângulo é de {area}')"
      ]
    },
    {
      "cell_type": "markdown",
      "metadata": {
        "id": "atBKwGTyBUGW"
      },
      "source": [
        "22. Escreva um programa que receba como entrada o raio de um círculo e imprima o diâmetro, a circunferência e a área. Para isso, utilize as fórmulas: diâmetro = 2r; circunferência = 2πr, área = πr²."
      ]
    },
    {
      "cell_type": "code",
      "execution_count": null,
      "metadata": {
        "id": "YADly2I8BUGW",
        "colab": {
          "base_uri": "https://localhost:8080/"
        },
        "outputId": "6f8971f6-a1c3-4708-8b62-3271b9a4ab27"
      },
      "outputs": [
        {
          "output_type": "stream",
          "name": "stdout",
          "text": [
            "Digite o raio do círculo: 5\n",
            "\n",
            "Raio: 5.0 \n",
            "Diametro: 10.0 \n",
            "Circunferência: 31.41592653589793 \n",
            "Área: 78.53981633974483\n"
          ]
        }
      ],
      "source": [
        "import math\n",
        "\n",
        "raio = float(input('Digite o raio do círculo: '))\n",
        "\n",
        "diametro = 2 * raio\n",
        "circunferencia = 2 * math.pi * raio\n",
        "area = math.pi * (raio**2)\n",
        "\n",
        "print(f'\\nRaio: {raio} \\nDiametro: {diametro} \\nCircunferência: {circunferencia} \\nÁrea: {area}')"
      ]
    },
    {
      "cell_type": "markdown",
      "metadata": {
        "id": "-Ku3XZ8zBUGW"
      },
      "source": [
        "23. Faça um programa que receba um número positivo e maior que zero, calcule e mostre:\n",
        "    1. o número digitado ao quadrado;\n",
        "    2. o número digitado ao cubo;\n",
        "    3. a raiz quadrada do número digitado."
      ]
    },
    {
      "cell_type": "code",
      "execution_count": null,
      "metadata": {
        "id": "m2UWgqysBUGX",
        "colab": {
          "base_uri": "https://localhost:8080/"
        },
        "outputId": "af1922a1-efd3-429c-b3e4-ab903b570649"
      },
      "outputs": [
        {
          "output_type": "stream",
          "name": "stdout",
          "text": [
            "Digite um número maior que 0: 5\n",
            "\n",
            "Número ao quadrado: 25.0 \n",
            "Número ao cubo: 125.0 \n",
            "Raiz quadrada do número: 2.23606797749979\n"
          ]
        }
      ],
      "source": [
        "import math\n",
        "\n",
        "x = 0\n",
        "\n",
        "while x <= 0:\n",
        "  x = float(input('Digite um número maior que 0: '))\n",
        "\n",
        "quadrado = x**2\n",
        "cubo = x**3\n",
        "raiz = math.sqrt(x)\n",
        "\n",
        "print(f'\\nNúmero ao quadrado: {quadrado} \\nNúmero ao cubo: {cubo} \\nRaiz quadrada do número: {raiz}')\n"
      ]
    },
    {
      "cell_type": "markdown",
      "metadata": {
        "id": "dZzEFhopBUGX"
      },
      "source": [
        "24. Faça um programa que receba dois números maiores que zero, calcule e mostre um elevado ao outro."
      ]
    },
    {
      "cell_type": "code",
      "execution_count": null,
      "metadata": {
        "id": "UXqwW4bHBUGX",
        "colab": {
          "base_uri": "https://localhost:8080/"
        },
        "outputId": "3df66d76-31c4-4bc7-e772-be64ac874dfb"
      },
      "outputs": [
        {
          "output_type": "stream",
          "name": "stdout",
          "text": [
            "Primeiro número maior que 0: 5\n",
            "Segundo número maior que 0: 2\n",
            "\n",
            "5 elevado a 2 é igual a 25\n"
          ]
        }
      ],
      "source": [
        "x = 0\n",
        "\n",
        "while x <= 0:\n",
        "  x = int(input('Primeiro número maior que 0: '))\n",
        "\n",
        "y = 0\n",
        "\n",
        "while y <= 0:\n",
        "  y = int(input('Segundo número maior que 0: '))  \n",
        "\n",
        "result = x**y\n",
        "\n",
        "print(f'\\n{x} elevado a {y} é igual a {result}')"
      ]
    },
    {
      "cell_type": "markdown",
      "metadata": {
        "id": "BebxTYtYBUGX"
      },
      "source": [
        "25. Sabe-se que: pé = 12 polegadas; 1 jarda = 3 pés e 1 milha = 1,760 jarda. Faça um programa que receba uma medida em pés, faça as conversões a seguir e mostre os resultados.\n",
        "    1. polegadas;\n",
        "    2. jardas;\n",
        "    3. milhas."
      ]
    },
    {
      "cell_type": "code",
      "execution_count": null,
      "metadata": {
        "id": "g7Mc9t0ABUGY",
        "colab": {
          "base_uri": "https://localhost:8080/"
        },
        "outputId": "ab7d375f-14d3-434a-87c9-025634112748"
      },
      "outputs": [
        {
          "output_type": "stream",
          "name": "stdout",
          "text": [
            "Medida em pés: 50\n",
            "\n",
            "Polegadas: 600.0 \n",
            "Jardas: 16.666666666666668 \n",
            "Milhas: 0.00946969696969697\n"
          ]
        }
      ],
      "source": [
        "pe = float(input('Medida em pés: '))\n",
        "\n",
        "polegadas = pe * 12\n",
        "jarda = pe / 3\n",
        "milha = jarda / 1760\n",
        "\n",
        "print(f'\\nPolegadas: {polegadas} \\nJardas: {jarda} \\nMilhas: {milha}')"
      ]
    },
    {
      "cell_type": "markdown",
      "metadata": {
        "id": "8XTSJ1ESBUGY"
      },
      "source": [
        "26. Escreva um programa que receba como entrada um número de 5 dígitos, separe o número em dígitos individuais e os imprima separados por 3 espaços cada um. Por exemplo, se o usuário digitar 42339, o programa deverá imprimir: 4    2    3    3.   Dica: utilize as operações de divisão e módulo para extrair cada dígito do número."
      ]
    },
    {
      "cell_type": "code",
      "execution_count": null,
      "metadata": {
        "id": "S2kWKHs3BUGY",
        "colab": {
          "base_uri": "https://localhost:8080/"
        },
        "outputId": "2f384c8a-8424-4116-cd98-7cfd14cbaf73"
      },
      "outputs": [
        {
          "output_type": "stream",
          "name": "stdout",
          "text": [
            "Digite um numero: 42339\n",
            "4     2     3     3     9\n"
          ]
        }
      ],
      "source": [
        "x = int(input('Digite um numero: '))\n",
        "\n",
        "digito1 = x % 10\n",
        "x = int(x / 10)\n",
        "\n",
        "digito2 = x % 10\n",
        "x = int(x / 10)\n",
        "\n",
        "digito3 = x % 10\n",
        "x = int(x / 10)\n",
        "\n",
        "digito4 = x % 10\n",
        "x = int(x / 10)\n",
        "\n",
        "digito5 = x % 10\n",
        "\n",
        "print(digito5, '   ', digito4, '   ', digito3, '   ', digito2, '   ', digito1)\n"
      ]
    },
    {
      "cell_type": "markdown",
      "metadata": {
        "id": "O0ys9wnOBUGY"
      },
      "source": [
        "27.  A nota final de um estudante é calculada a partir de três notas atribuídas, respectivamente, a um trabalho\n",
        "de laboratório, a uma avaliação semestral e a um exame final. A média das três notas mencionadas\n",
        "obedece aos pesos a seguir:\n",
        "\n",
        "| Nota                    | Peso |\n",
        "|-------------------------|------|\n",
        "| Trabalho de Laboratório | 2    |\n",
        "| Avaliação Semestral     | 3    |\n",
        "| Exame Final             | 5    |\n",
        "\n",
        "\n",
        "Faça um programa que receba as três notas, calcule e mostre a média ponderada e o conceito que segue\n",
        "a tabela:\n",
        "\n",
        "| Média Ponderada        | Conceito |\n",
        "|------------------------|----------|\n",
        "| 8,00 <= Média <= 10,00 | A        |\n",
        "| 7,00 <= Média < 8,00   | B        |\n",
        "| 6,00 <= Média < 7,00   | C        |\n",
        "| 5,00 <= Média < 6,00   | D        |\n",
        "| 0,00 <= Média < 5,00   | E        |"
      ]
    },
    {
      "cell_type": "code",
      "execution_count": null,
      "metadata": {
        "id": "c9UEIOtYBUGZ",
        "colab": {
          "base_uri": "https://localhost:8080/"
        },
        "outputId": "01b74785-6887-4f19-b389-cf6a0f213029"
      },
      "outputs": [
        {
          "output_type": "stream",
          "name": "stdout",
          "text": [
            "Digite a nota 1: 5\n",
            "Digite a nota 2: 8\n",
            "Digite a nota 3: 9\n",
            "\n",
            "Média: 7.9 \n",
            "Conceito: B\n"
          ]
        }
      ],
      "source": [
        "nota1 = float(input(\"Digite a nota 1: \")) * 2\n",
        "nota2 = float(input(\"Digite a nota 2: \")) * 3\n",
        "nota3 = float(input(\"Digite a nota 3: \")) * 5\n",
        "\n",
        "media = (nota1 + nota2 + nota3) / 10\n",
        "conceito = ' '\n",
        "\n",
        "if media >= 8 and media <= 10:\n",
        "  conceito = 'A'\n",
        "elif media >=7 and media < 8:\n",
        "  conceito = 'B'\n",
        "elif media >= 6 and media < 7:\n",
        "  conceito = 'C'\n",
        "elif media >= 5 and media < 6:\n",
        "  conceito = 'D'\n",
        "else:\n",
        "  conceito = 'E'\n",
        "\n",
        "print(f'\\nMédia: {media} \\nConceito: {conceito}')"
      ]
    },
    {
      "cell_type": "markdown",
      "metadata": {
        "id": "d3VfkJpgBUGZ"
      },
      "source": [
        "28. Faça um programa que receba três notas de um aluno, calcule e mostre a média aritmética e a mensagem constante na tabela a seguir. \n",
        "\n",
        "| Média                  | Situação       |\n",
        "|------------------------|----------------|\n",
        "| 7,00 <= Média <= 10,00 | Aprovado       |\n",
        "| 3,00 <= Média < 7,00   | Exame Especial |\n",
        "| 0,00 <= Média < 3,00   | Reprovado      |"
      ]
    },
    {
      "cell_type": "code",
      "execution_count": null,
      "metadata": {
        "id": "jO9w9ay3BUGZ",
        "colab": {
          "base_uri": "https://localhost:8080/"
        },
        "outputId": "23d0399b-08c3-437b-f46e-b43d6db56fd2"
      },
      "outputs": [
        {
          "output_type": "stream",
          "name": "stdout",
          "text": [
            "Digite a nota 1: 5\n",
            "Digite a nota 2: 8\n",
            "Digite a nota 3: 9\n",
            "\n",
            "Média: 7.333333333333333 \n",
            "Situação: Aprovado\n"
          ]
        }
      ],
      "source": [
        "nota1 = float(input(\"Digite a nota 1: \")) \n",
        "nota2 = float(input(\"Digite a nota 2: \")) \n",
        "nota3 = float(input(\"Digite a nota 3: \")) \n",
        "\n",
        "media = (nota1 + nota2 + nota3) / 3\n",
        "conceito = ' '\n",
        "\n",
        "if media >= 7 and media <= 10:\n",
        "  conceito = 'Aprovado'\n",
        "elif media >= 3 and media < 7:\n",
        "  conceito = 'Exame Especial'\n",
        "else:\n",
        "  conceito = 'Reprovado'\n",
        "\n",
        "print(f'\\nMédia: {media} \\nSituação: {conceito}')"
      ]
    },
    {
      "cell_type": "markdown",
      "metadata": {
        "id": "2rjhWffRBUGZ"
      },
      "source": [
        "29. Faça um programa para resolver equações do 2º grau.\n",
        "\n",
        "$$\n",
        "a^{2} + bx + c = 0\n",
        "$$\n",
        "\n",
        "\n",
        "Onde x é uma variável, sendo a, b e c constantes, com a ≠ 0 \n",
        "\n",
        "\n",
        "$$\n",
        "\\Delta = b^{2} - 4ac\n",
        "$$\n",
        "\n",
        "$$\n",
        "\\Delta < 0 \\rightarrow não \\: existe  \\: raiz  \\: real\n",
        "$$\n",
        "\n",
        "$$\n",
        "\\Delta = 0 \\rightarrow  existe  \\: raiz  \\: real\n",
        "$$\n",
        "\n",
        "$$\n",
        "x = \\frac{-b}{2a}\n",
        "$$\n",
        "\n",
        "\n",
        "\n",
        "$$\n",
        "\\Delta > 0 \\rightarrow existem \\: duas  \\: raizes  \\: reais\n",
        "$$\n",
        "\n",
        "\n",
        "$$\n",
        "x_1 = \\frac{-b \\: + \\: \\sqrt{\\Delta } }{2a}\n",
        "$$\n",
        "\n",
        "$$\n",
        "x_2 = \\frac{-b \\: - \\: \\sqrt{\\Delta } }{2a}\n",
        "$$"
      ]
    },
    {
      "cell_type": "code",
      "execution_count": null,
      "metadata": {
        "id": "_G_TR5nQBUGa"
      },
      "outputs": [],
      "source": [
        "#A = float(1)\n",
        "#B = float(-2)\n",
        "#C = float(1)\n",
        "#x = float(-4)\n",
        "#x = float(input('Digite o valor da variável: '))\n",
        "\n",
        "#delta = (B**2) - 4 * A * C\n",
        "\n",
        "#if delta < 0:\n",
        "#  print('Não existe raiz real')\n",
        "#elif delta == 0:\n",
        "#  print('Existe raiz real')\n",
        "#else:\n",
        "#  print('Existem duas raizes reais')\n"
      ]
    },
    {
      "cell_type": "markdown",
      "metadata": {
        "id": "75j2jcQ8BUGa"
      },
      "source": [
        "30. Faça um programa que receba vários números, calcule e mostre:\n",
        "\n",
        "    - A soma dos números digitados;\n",
        "    - A quantidade de números digitados;\n",
        "    - A média dos números digitados;\n",
        "    - O maior número digitado;\n",
        "    - O menor número digitado;\n",
        "    - A média dos números pares;\n",
        "    - A porcentagem dos números ímpares entre todos os números digitados.\n",
        "\n",
        "Finalize a entrada de dados com a digitação do número 0."
      ]
    },
    {
      "cell_type": "code",
      "execution_count": null,
      "metadata": {
        "id": "BsmggllXBUGb",
        "colab": {
          "base_uri": "https://localhost:8080/"
        },
        "outputId": "a625b1a4-43ed-46b6-ce2c-3d8648200485"
      },
      "outputs": [
        {
          "output_type": "stream",
          "name": "stdout",
          "text": [
            "Digite um número: 5\n",
            "Sim [1] / Não [0] - Digitar outro número? 1\n",
            "\n",
            "\n",
            "Digite um número: 8\n",
            "Sim [1] / Não [0] - Digitar outro número? 1\n",
            "\n",
            "\n",
            "Digite um número: 4\n",
            "Sim [1] / Não [0] - Digitar outro número? 1\n",
            "\n",
            "\n",
            "Digite um número: 3\n",
            "Sim [1] / Não [0] - Digitar outro número? 1\n",
            "\n",
            "\n",
            "Digite um número: -2\n",
            "Sim [1] / Não [0] - Digitar outro número? 0\n",
            "\n",
            "\n",
            "----------------Resultados----------------\n",
            "Soma dos valores ...................: 18\n",
            "Quantidade de valores ..............: 5\n",
            "Média dos valores ..................: 3.60\n",
            "Maior valor ........................: 8\n",
            "Menor valor ........................: -2\n",
            "Média dos números pares ............: 3.33\n",
            "Porcentagem impares entre o total ..: 40.00%\n"
          ]
        }
      ],
      "source": [
        "lista = []\n",
        "\n",
        "x = 1\n",
        "soma = 0\n",
        "cont = 0\n",
        "maior = -1000000\n",
        "menor = 1000000\n",
        "pares = 0\n",
        "impares = 0\n",
        "contPares = 0\n",
        "\n",
        "while x == 1:\n",
        " lista.append(int(input('Digite um número: ')))\n",
        " \n",
        " x = int(input('Sim [1] / Não [0] - Digitar outro número? '))\n",
        "\n",
        " print('\\n')\n",
        "\n",
        "for i in range(len(lista)):\n",
        "\n",
        "  soma += lista[i]\n",
        "  cont += 1\n",
        "\n",
        "  if lista[i] > maior:\n",
        "    maior = lista[i]\n",
        "\n",
        "  if lista[i] < menor:\n",
        "    menor = lista[i]  \n",
        "\n",
        "  if lista[i] % 2 == 0:\n",
        "    pares += lista[i]\n",
        "    contPares += 1\n",
        "\n",
        "  if lista[i] % 2 >= 1:\n",
        "    impares += 1  \n",
        "\n",
        "media = soma / cont\n",
        "mediaPares = pares / contPares \n",
        "percent = (impares / cont) * 100\n",
        "\n",
        "print('----------------Resultados----------------')\n",
        "print(f'Soma dos valores ...................: {soma}')  \n",
        "print(f'Quantidade de valores ..............: {cont}') \n",
        "print(f'Média dos valores ..................: {media:.2f}') \n",
        "print(f'Maior valor ........................: {maior}') \n",
        "print(f'Menor valor ........................: {menor}')  \n",
        "print(f'Média dos números pares ............: {mediaPares:.2f}') \n",
        "print(f'Porcentagem impares entre o total ..: {percent:.2f}%') "
      ]
    },
    {
      "cell_type": "markdown",
      "metadata": {
        "id": "IO04a47cBUGb"
      },
      "source": [
        "31. Foi realizada uma pesquisa sobre algumas características físicas dos habitantes de uma região. Foram coletados os seguintes dados de cada habitante: sexo, cor dos olhos (A — azuis; ou C — castanhos), cor dos cabelos (L — louros; P — pretos; ou C — castanhos) e idade. Implemente os seguintes métodos:\n",
        "\n",
        "    1. `leia_dados()`: leia esses dados, armazene e retorne os dados em uma lista;\n",
        "    2. `media_idades(dados)`: calcula e retorne a média de idade das pessoas com olhos castanhos e cabelos pretos;\n",
        "    3. `maior_idade(dados)`: determina e retorne a maior idade entre os habitantes;\n",
        "    4. `frequencia_individuos(dados)`: calcula e retorna a quantidade de indivíduos do sexo feminino com idade entre 18 e 35 anos (inclusive) e que tenham olhos azuis e cabelos louros."
      ]
    },
    {
      "cell_type": "code",
      "execution_count": null,
      "metadata": {
        "id": "arpRJYpjBUGb"
      },
      "outputs": [],
      "source": [
        "#lista = [['M', 'A', 'C', 25], ['F', 'C', 'L', 23], ['M', 'C', 'C', 19], ['F', 'A', 'P', 29]]\n",
        "#leia_dados()\n",
        "#def leia_dados():\n",
        "\n",
        "#lista = [['', '', '', 0], ['', '', '', 0], ['', '', '', 0]]\n",
        "\n",
        "#for i in range(0, 3):\n",
        "#  for j in range(0, 4):\n",
        "#    lista[i][j] = input(f'Digite um valor para {i}{j}: ')\n",
        "\n",
        "#print(lista)    \n",
        "\n",
        "\n"
      ]
    },
    {
      "cell_type": "markdown",
      "metadata": {
        "id": "_32Qnhu-BUGb"
      },
      "source": [
        "32. Faça o método `analisa_numeros(numeros)` que receba uma lista de números como parâmetro, calcule e mostre:\n",
        "\n",
        "    1. A Soma dos números;\n",
        "    2. A quantidade de números;\n",
        "    3. A média dos números;\n",
        "    4. O maior número;\n",
        "    5. O menor número;\n",
        "    6. A média dos números pares;\n",
        "    7. A porcentagem dos números ímpares entre todos os números da lista."
      ]
    },
    {
      "cell_type": "code",
      "execution_count": null,
      "metadata": {
        "id": "b-x9exVwBUGc"
      },
      "outputs": [],
      "source": [
        ""
      ]
    },
    {
      "cell_type": "markdown",
      "metadata": {
        "id": "jcdETgoVBUGc"
      },
      "source": [
        "33. Uma empresa quer transmitir dados pelo telefone, mas está preocupada com a interceptação telefônica. Todos os seus dados são transmitidos  como inteiros de quatro dígitos. Ela pediu para que você escreva um programa que criptografe seus dados, para que eles possam ser transmitidos com mais segurança. Implemente a função `criptogra(numero)` que receba como parâmetro um número inteiro de quatro dígitos e criptografe-o da seguinte forma: \n",
        "\n",
        "    * Substitua cada um dos dígitos do número usando a seguinte fórmula: `(digito +  7) módulo 10`; \n",
        "    * Após a substituição, troque o primeiro dígito pelo terceiro e troque o segundo dígito pelo quarto;\n",
        "    * Retorne o número inteiro criptografado."
      ]
    },
    {
      "cell_type": "code",
      "execution_count": null,
      "metadata": {
        "id": "scWaifbRBUGc"
      },
      "outputs": [],
      "source": [
        ""
      ]
    }
  ],
  "metadata": {
    "kernelspec": {
      "display_name": "Python 3",
      "language": "python",
      "name": "python3"
    },
    "language_info": {
      "codemirror_mode": {
        "name": "ipython",
        "version": 3
      },
      "file_extension": ".py",
      "mimetype": "text/x-python",
      "name": "python",
      "nbconvert_exporter": "python",
      "pygments_lexer": "ipython3",
      "version": "3.7.4"
    },
    "colab": {
      "name": "exercicios-python.ipynb",
      "provenance": [],
      "collapsed_sections": []
    }
  },
  "nbformat": 4,
  "nbformat_minor": 0
}